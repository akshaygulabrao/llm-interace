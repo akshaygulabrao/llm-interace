{
 "cells": [
  {
   "cell_type": "code",
   "execution_count": 29,
   "metadata": {},
   "outputs": [
    {
     "data": {
      "text/plain": [
       "True"
      ]
     },
     "execution_count": 29,
     "metadata": {},
     "output_type": "execute_result"
    }
   ],
   "source": [
    "import os,dotenv\n",
    "import openai, anthropic\n",
    "from pathlib import Path\n",
    "\n",
    "dotenv.load_dotenv(os.environ['sp'])\n"
   ]
  },
  {
   "cell_type": "code",
   "execution_count": 30,
   "metadata": {},
   "outputs": [],
   "source": [
    "anthropic_api = False\n",
    "deepseek = False\n",
    "if anthropic_api:\n",
    "    client = anthropic.Anthropic(api_key=os.environ['ANTHROPIC_API_KEY'])\n",
    "elif deepseek:\n",
    "    client = openai.OpenAI(base_url=\"https://api.deepseek.com/\", \n",
    "                           api_key=os.environ['DEEPSEEK_API_KEY'])\n",
    "else:\n",
    "    client = openai.OpenAI(api_key=os.environ['OPENAI_API_KEY'])\n",
    "    model = \"gpt-4o\"\n",
    "\n"
   ]
  },
  {
   "cell_type": "code",
   "execution_count": 38,
   "metadata": {},
   "outputs": [],
   "source": [
    "messages = []\n",
    "with open('output.md', 'w',encoding='utf-8') as f:\n",
    "    pass"
   ]
  },
  {
   "cell_type": "code",
   "execution_count": 39,
   "metadata": {},
   "outputs": [],
   "source": [
    "text = f\"Can I use the prometheus gitlab-runner metrics in conjunction with the prometheus node-expoerter seperately\\\n",
    "    installed on the ec2 instance to expose metrics to grafana?\"\n",
    "msg = {\"role\": \"user\", \"content\": f'{text}'}\n",
    "\n",
    "# Log the user's message\n",
    "with open('output.md', 'a',encoding='utf-8') as f:\n",
    "    f.write(f'\\n\\n**USER**\\n\\n{msg[\"content\"]}\\n')\n",
    "\n",
    "# Append the user's message to the conversation history\n",
    "messages.append(msg)\n",
    "\n",
    "# Generate a response from the AI model\n",
    "try:\n",
    "    response = client.chat.completions.create(\n",
    "        model=model,\n",
    "        messages=messages\n",
    "    )\n",
    "    ai_response = response.choices[0].message.content\n",
    "\n",
    "    # Log the AI's response\n",
    "    with open('output.md', 'a',encoding='utf-8') as f:\n",
    "        f.write(f'\\n\\n**{model}**\\n\\n{ai_response}\\n')\n",
    "\n",
    "    # Append the AI's response to the conversation history\n",
    "    msg = {'role': 'assistant', 'content': ai_response}  # Use 'assistant' role\n",
    "    messages.append(msg)\n",
    "\n",
    "except Exception as e:\n",
    "    print(f\"An error occurred: {e}\")"
   ]
  },
  {
   "cell_type": "code",
   "execution_count": 36,
   "metadata": {},
   "outputs": [],
   "source": [
    "concatenated_messages = \"\"    \n",
    "for i in messages:\n",
    "    if i['role'] == 'user':\n",
    "        concatenated_messages += f\"{i['content']}\\n\\n\"\n"
   ]
  },
  {
   "cell_type": "code",
   "execution_count": 37,
   "metadata": {},
   "outputs": [
    {
     "data": {
      "text/plain": [
       "'What is the prometheus node exporter? What does it have to do with setting up grafana     with prometheus metrics?\\n\\nBut why do I need the node exporter? Prometheus sends the data to localhost by default?\\n\\nSo I would need to add the node-exporter to the docker container that receives the metrics?\\n\\nPrometheus is being used to collect information from the gitlab runners.     I want to set up grafana to visualize the metrics collected by prometheus.     What is the prometheus node exporter? What does it have to do with setting up grafana     with prometheus metrics?\\n\\n'"
      ]
     },
     "execution_count": 37,
     "metadata": {},
     "output_type": "execute_result"
    }
   ],
   "source": [
    "concatenated_messages"
   ]
  }
 ],
 "metadata": {
  "kernelspec": {
   "display_name": ".venv",
   "language": "python",
   "name": "python3"
  },
  "language_info": {
   "codemirror_mode": {
    "name": "ipython",
    "version": 3
   },
   "file_extension": ".py",
   "mimetype": "text/x-python",
   "name": "python",
   "nbconvert_exporter": "python",
   "pygments_lexer": "ipython3",
   "version": "3.10.16"
  }
 },
 "nbformat": 4,
 "nbformat_minor": 2
}
